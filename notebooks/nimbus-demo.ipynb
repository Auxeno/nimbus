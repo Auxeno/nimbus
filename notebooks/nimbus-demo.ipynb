{
 "cells": [
  {
   "cell_type": "markdown",
   "id": "dd62206f",
   "metadata": {},
   "source": [
    "## 🌩️ Nimbus Demo\n",
    "\n",
    "Explanations of JAX can be found in the other notebook in this repo."
   ]
  },
  {
   "cell_type": "code",
   "execution_count": null,
   "id": "d2b1cc03",
   "metadata": {
    "vscode": {
     "languageId": "plaintext"
    }
   },
   "outputs": [],
   "source": []
  },
  {
   "cell_type": "markdown",
   "id": "46bae347",
   "metadata": {},
   "source": [
    "### Generate and Plot Scenarios\n",
    "\n",
    "- Generate scenarios with a vmapped RNG key, then VMAP step"
   ]
  },
  {
   "cell_type": "code",
   "execution_count": null,
   "id": "c7bbf572",
   "metadata": {
    "vscode": {
     "languageId": "plaintext"
    }
   },
   "outputs": [],
   "source": []
  },
  {
   "cell_type": "markdown",
   "id": "997b572b",
   "metadata": {},
   "source": [
    "### VMAP Capabilities\n",
    "\n",
    "- Demonstrate capability to VMAP 1,000,000+ aircraft in parallel"
   ]
  },
  {
   "cell_type": "code",
   "execution_count": null,
   "id": "eefe70f4",
   "metadata": {
    "vscode": {
     "languageId": "plaintext"
    }
   },
   "outputs": [],
   "source": []
  },
  {
   "cell_type": "markdown",
   "id": "a9d26b8b",
   "metadata": {},
   "source": [
    "### Map Generation and VMAP Over Maps\n",
    "\n",
    "- Demonstrate generating multiple maps and VMAP over them\n",
    "- Point out that maps use considerably more memory than the rest of the simulation state so am much more limited in what you can parallelise"
   ]
  },
  {
   "cell_type": "code",
   "execution_count": null,
   "id": "63a0ca8c",
   "metadata": {
    "vscode": {
     "languageId": "plaintext"
    }
   },
   "outputs": [],
   "source": []
  },
  {
   "cell_type": "markdown",
   "id": "57e1e1b8",
   "metadata": {},
   "source": [
    "### VMAP Different Aircraft Configs"
   ]
  },
  {
   "cell_type": "code",
   "execution_count": null,
   "id": "c202d04b",
   "metadata": {
    "vscode": {
     "languageId": "plaintext"
    }
   },
   "outputs": [],
   "source": []
  },
  {
   "cell_type": "markdown",
   "id": "6ccecffa",
   "metadata": {},
   "source": [
    "### VMAP Performance"
   ]
  },
  {
   "cell_type": "code",
   "execution_count": null,
   "id": "5e6784a4",
   "metadata": {
    "vscode": {
     "languageId": "plaintext"
    }
   },
   "outputs": [],
   "source": []
  },
  {
   "cell_type": "markdown",
   "id": "eeab607f",
   "metadata": {},
   "source": [
    "### Wind Generation"
   ]
  },
  {
   "cell_type": "code",
   "execution_count": null,
   "id": "8378341a",
   "metadata": {
    "vscode": {
     "languageId": "plaintext"
    }
   },
   "outputs": [],
   "source": []
  }
 ],
 "metadata": {
  "language_info": {
   "name": "python"
  }
 },
 "nbformat": 4,
 "nbformat_minor": 5
}
