{
 "cells": [
  {
   "cell_type": "code",
   "execution_count": null,
   "id": "b73a2872",
   "metadata": {},
   "outputs": [],
   "source": [
    "%cd .."
   ]
  },
  {
   "cell_type": "markdown",
   "id": "dd62206f",
   "metadata": {},
   "source": [
    "## 🌩️ Nimbus Demo\n",
    "\n",
    "Explanations of JAX can be found in the other notebook in this repo.\n",
    "\n",
    "Sections:\n",
    "- Install\n",
    "- Generate scenarios\n",
    "- 1,000,000 parallel aircraft\n",
    "\n",
    "\n",
    "### Install"
   ]
  },
  {
   "cell_type": "code",
   "execution_count": null,
   "id": "d2b1cc03",
   "metadata": {},
   "outputs": [],
   "source": [
    "!pip install git+https://github.com/auxeno/nimbus.git\n",
    "!pip install numpy, plotly"
   ]
  },
  {
   "cell_type": "markdown",
   "id": "46bae347",
   "metadata": {},
   "source": [
    "### Generate and Plot Scenarios"
   ]
  },
  {
   "cell_type": "code",
   "execution_count": null,
   "id": "c7bbf572",
   "metadata": {},
   "outputs": [],
   "source": [
    "import jax\n",
    "from nimbus.core.config import MapConfig\n",
    "from nimbus.core.scenario import InitialConditions, generate_scenario\n",
    "\n",
    "\n",
    "# Generate pre-defined scenario\n",
    "simulation_state, heightmap, waypoint_route = generate_scenario(\n",
    "    key=jax.random.PRNGKey(4), \n",
    "    initial_conditions=InitialConditions.showcase(), \n",
    "    terrain_config=MapConfig().terrain\n",
    ")"
   ]
  },
  {
   "cell_type": "code",
   "execution_count": null,
   "id": "be02d7ba",
   "metadata": {},
   "outputs": [],
   "source": [
    "# --- Code to view a scenario in 3D with Plotly ---\n",
    "\n",
    "import numpy as np\n",
    "import plotly.graph_objects as go\n",
    "from nimbus.core import quaternion\n",
    "\n",
    "\n",
    "def plot_terrain_route_aircraft(\n",
    "    simulation_state, \n",
    "    heightmap, \n",
    "    waypoint_route, \n",
    "    map_config,\n",
    "):\n",
    "    # Terrain (Z = up), transpose required\n",
    "    heightmap_np = np.array(heightmap.T, dtype=np.float32)\n",
    "    terrain_elevation = (heightmap_np - 0.5) * 2.0 * float(map_config.terrain_height)\n",
    "\n",
    "    rows, cols = heightmap_np.shape\n",
    "    half_size = float(map_config.size) / 2.0\n",
    "    north = np.linspace(-half_size, half_size, cols, dtype=np.float32)\n",
    "    east = np.linspace(-half_size, half_size, rows, dtype=np.float32)\n",
    "    X, Y = np.meshgrid(north, east)\n",
    "\n",
    "    # Positions (NED -> plotting with up = -down)\n",
    "    aircraft_ned = np.array(simulation_state.aircraft.body.position, dtype=np.float32)\n",
    "    ax, ay, az_up = aircraft_ned[0], aircraft_ned[1], -aircraft_ned[2]\n",
    "\n",
    "    route_ned = np.array(waypoint_route.positions, dtype=np.float32)\n",
    "    rx, ry, rz_up = route_ned[:, 0], route_ned[:, 1], -route_ned[:, 2]\n",
    "\n",
    "    # Orientation from quaternion (body +X forward)\n",
    "    q = np.array(simulation_state.aircraft.body.orientation, dtype=np.float32)\n",
    "    forward_body = np.array([1.0, 0.0, 0.0], dtype=np.float32)\n",
    "    forward_world_ned = np.array(quaternion.to_rotation_matrix(q)) @ forward_body\n",
    "    forward_world_plot = np.array(\n",
    "        [forward_world_ned[0], \n",
    "         forward_world_ned[1], \n",
    "         -forward_world_ned[2]],\n",
    "         dtype=np.float32\n",
    "    )\n",
    "    forward_world_plot /= np.linalg.norm(forward_world_plot) + 1e-6\n",
    "    u, v, w = (forward_world_plot * 250.0)\n",
    "\n",
    "    fig = go.Figure()\n",
    "\n",
    "    # Terrain surface\n",
    "    fig.add_trace(\n",
    "        go.Surface(\n",
    "            x=X, y=Y, z=terrain_elevation,\n",
    "            colorscale=\"ice\",\n",
    "            showscale=False,\n",
    "            opacity=0.96,\n",
    "            name=\"Terrain\",\n",
    "        )\n",
    "    )\n",
    "\n",
    "    # Waypoints\n",
    "    fig.add_trace(\n",
    "        go.Scatter3d(\n",
    "            x=rx, y=ry, z=rz_up,\n",
    "            mode=\"markers+lines\",\n",
    "            marker=dict(size=6, color=\"white\"),\n",
    "            line=dict(color=\"white\", width=3),\n",
    "            name=\"Waypoints\",\n",
    "        )\n",
    "    )\n",
    "\n",
    "    # Aircraft\n",
    "    fig.add_trace(\n",
    "        go.Cone(\n",
    "            x=[ax], y=[ay], z=[az_up],\n",
    "            u=[u], v=[v], w=[w],\n",
    "            anchor=\"tail\",\n",
    "            colorscale=[[0, \"black\"], [1, \"blue\"]],\n",
    "            showscale=False,\n",
    "            sizemode=\"absolute\",\n",
    "            sizeref=350.0,\n",
    "            name=\"Aircraft\",\n",
    "        )\n",
    "    )\n",
    "\n",
    "    # Plot formatting\n",
    "    fig.update_layout(\n",
    "        template=\"plotly_dark\",\n",
    "        title=\"Scenario 3D View\",\n",
    "        scene=dict(\n",
    "            xaxis_title=\"North (m)\",\n",
    "            yaxis_title=\"East (m)\",\n",
    "            zaxis_title=\"Up (m)\",\n",
    "            aspectmode=\"data\",\n",
    "            xaxis=dict(showbackground=False),\n",
    "            yaxis=dict(showbackground=False),\n",
    "            zaxis=dict(showbackground=False),\n",
    "            camera=dict(eye=dict(x=0.7, y=0.9, z=0.55)),\n",
    "        ),\n",
    "        margin=dict(l=0, r=0, t=50, b=0),\n",
    "    )\n",
    "    return fig"
   ]
  },
  {
   "cell_type": "code",
   "execution_count": null,
   "id": "f5740ab9",
   "metadata": {},
   "outputs": [],
   "source": [
    "fig = plot_terrain_route_aircraft(\n",
    "    simulation_state=simulation_state,\n",
    "    heightmap=heightmap,\n",
    "    waypoint_route=waypoint_route,\n",
    "    map_config=MapConfig(),\n",
    ")\n",
    "fig.show()"
   ]
  },
  {
   "cell_type": "markdown",
   "id": "ed5b152a",
   "metadata": {},
   "source": [
    "#### Custom Scenario"
   ]
  },
  {
   "cell_type": "code",
   "execution_count": null,
   "id": "363c1af1",
   "metadata": {},
   "outputs": [],
   "source": [
    "from nimbus.core.scenario import Fixed, Uniform\n",
    "\n",
    "\n",
    "# Position specified in North East Down world-frame [m]\n",
    "aircraft_position = (\n",
    "    Fixed(1000.0),          # place at 1000m North from centre\n",
    "    Fixed(-500.0),          # place at 500m West from centre\n",
    "    Uniform(0.0, -1000.0),  # place somewhere between 0m and 1000m altitude\n",
    ")\n",
    "\n",
    "# Velocity specified in North East Down world-frame [m/s]\n",
    "aircraft_velocity = (\n",
    "    Fixed(-100.0),  # flying South at 100 m/s\n",
    "    Fixed(0.0), \n",
    "    Fixed(0.0),\n",
    ")\n",
    "\n",
    "\n",
    "# Orientation specified as yaw, pitch, roll [degrees]\n",
    "aircraft_orientation = (\n",
    "    Fixed(180.0),  # facing south\n",
    "    Fixed(2.0),    # pitched slightly up\n",
    "    Fixed(0.0),    # level wings\n",
    ")\n",
    "\n",
    "# Waypoint positions defined in NED world-frame [m]\n",
    "waypoint_positions = (\n",
    "    (Fixed(-1500.0), Fixed(0.0), Fixed(-1000.0)),\n",
    "    (Fixed(-2000.0), Fixed(0.0), Fixed(-1400.0)),\n",
    "    (Fixed(-2500.0), Fixed(0.0), Fixed(-1000.0)),\n",
    "    (Fixed(-3000.0), Fixed(0.0), Fixed(-600.0)),\n",
    ")\n",
    "\n",
    "# Define initial scenario conditions from data specified above\n",
    "custom_initial_conditions = InitialConditions(\n",
    "    position=aircraft_position,\n",
    "    velocity=aircraft_velocity,\n",
    "    orientation_euler=aircraft_orientation,\n",
    "    angular_velocity=(Fixed(0.0), Fixed(0.0), Fixed(0.0)),\n",
    "    wind_speed=Fixed(0.0),\n",
    "    wind_direction=Fixed(0.0),\n",
    "    waypoints=waypoint_positions\n",
    ")\n",
    "\n",
    "# Higher mountains\n",
    "map_config = MapConfig(terrain_height=3000.0)\n",
    "\n",
    "\n",
    "# Generate custom scenario\n",
    "simulation_state, heightmap, waypoint_route = generate_scenario(\n",
    "    key=jax.random.PRNGKey(0), \n",
    "    initial_conditions=custom_initial_conditions,\n",
    "    terrain_config=map_config.terrain\n",
    ")\n",
    "\n",
    "fig = plot_terrain_route_aircraft(\n",
    "    simulation_state=simulation_state,\n",
    "    heightmap=heightmap,\n",
    "    waypoint_route=waypoint_route,\n",
    "    map_config=map_config,\n",
    ")\n",
    "fig.show()"
   ]
  },
  {
   "cell_type": "markdown",
   "id": "4d594731",
   "metadata": {},
   "source": [
    "#### Batch Generate 100 Scenarios\n",
    "\n",
    "Different RNG so different possible random aircraft and waypoint placements."
   ]
  },
  {
   "cell_type": "code",
   "execution_count": null,
   "id": "f19faa67",
   "metadata": {},
   "outputs": [],
   "source": [
    "from nimbus.core.scenario import generate_simulation\n",
    "\n",
    "simulation_states = jax.vmap(generate_simulation, in_axes=(0, None))(\n",
    "    jax.random.split(jax.random.PRNGKey(0), num=100), \n",
    "    InitialConditions.default(), \n",
    ")"
   ]
  },
  {
   "cell_type": "code",
   "execution_count": null,
   "id": "68948c47",
   "metadata": {},
   "outputs": [],
   "source": [
    "### Nice visualisation of different scenarios here ###"
   ]
  },
  {
   "cell_type": "markdown",
   "id": "997b572b",
   "metadata": {},
   "source": [
    "### VMAP Capabilities\n",
    "\n",
    "- Demonstrate capability to VMAP 1,000,000+ aircraft in parallel"
   ]
  },
  {
   "cell_type": "code",
   "execution_count": null,
   "id": "eefe70f4",
   "metadata": {},
   "outputs": [],
   "source": [
    "import jax\n",
    "from nimbus.core.config import SimulationConfig\n",
    "from nimbus.core.scenario import InitialConditions, generate_simulation\n",
    "from nimbus.core.simulation import step\n",
    "\n",
    "\n",
    "# Step arguments\n",
    "key = jax.random.PRNGKey(0)\n",
    "simulation_states = jax.vmap(generate_simulation, in_axes=(0, None))(\n",
    "    jax.random.split(key, num=100_000), \n",
    "    InitialConditions.default(), \n",
    ")\n",
    "config = SimulationConfig()\n",
    "\n",
    "# Set config to static (faster)\n",
    "step_fn = jax.jit(step, static_argnames=(\"config\"))\n",
    "\n",
    "# Map across second argument (simulation states)\n",
    "step_vmap = jax.vmap(step_fn, in_axes=(None, 0, None, None, None))\n",
    "\n",
    "# Vectorised step\n",
    "step_vmap(key, simulation_states, heightmap, waypoint_route, )\n"
   ]
  },
  {
   "cell_type": "markdown",
   "id": "a9d26b8b",
   "metadata": {},
   "source": [
    "### Map Generation and VMAP Over Maps\n",
    "\n",
    "- Demonstrate generating multiple maps and VMAP over them\n",
    "- Point out that maps use considerably more memory than the rest of the simulation state so am much more limited in what you can parallelise"
   ]
  },
  {
   "cell_type": "code",
   "execution_count": null,
   "id": "63a0ca8c",
   "metadata": {},
   "outputs": [],
   "source": []
  },
  {
   "cell_type": "markdown",
   "id": "57e1e1b8",
   "metadata": {},
   "source": [
    "### VMAP Different Aircraft Configs"
   ]
  },
  {
   "cell_type": "code",
   "execution_count": null,
   "id": "c202d04b",
   "metadata": {},
   "outputs": [],
   "source": []
  },
  {
   "cell_type": "markdown",
   "id": "6ccecffa",
   "metadata": {},
   "source": [
    "### VMAP Performance"
   ]
  },
  {
   "cell_type": "code",
   "execution_count": null,
   "id": "5e6784a4",
   "metadata": {},
   "outputs": [],
   "source": []
  },
  {
   "cell_type": "markdown",
   "id": "eeab607f",
   "metadata": {},
   "source": [
    "### Wind Generation"
   ]
  },
  {
   "cell_type": "code",
   "execution_count": null,
   "id": "8378341a",
   "metadata": {},
   "outputs": [],
   "source": []
  }
 ],
 "metadata": {
  "kernelspec": {
   "display_name": "DefaultEnv",
   "language": "python",
   "name": "python3"
  },
  "language_info": {
   "codemirror_mode": {
    "name": "ipython",
    "version": 3
   },
   "file_extension": ".py",
   "mimetype": "text/x-python",
   "name": "python",
   "nbconvert_exporter": "python",
   "pygments_lexer": "ipython3",
   "version": "3.12.10"
  }
 },
 "nbformat": 4,
 "nbformat_minor": 5
}
