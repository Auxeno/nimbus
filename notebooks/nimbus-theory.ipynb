{
 "cells": [
  {
   "cell_type": "markdown",
   "id": "9ac9d3ef",
   "metadata": {},
   "source": [
    "## 🌩️ Nimbus Theory\n",
    "\n",
    "### JAX\n",
    "\n",
    "- Introduction: immutability, functional, autograd, hardware acceleration, tree support, jit compilation and vectorisation.\n",
    "- JIT: brrr\n",
    "- VMAP: brrr brrr brrr\n",
    "- Pytrees and Dataclasses"
   ]
  },
  {
   "cell_type": "code",
   "execution_count": null,
   "id": "24b981f1",
   "metadata": {
    "vscode": {
     "languageId": "plaintext"
    }
   },
   "outputs": [],
   "source": []
  },
  {
   "cell_type": "markdown",
   "id": "a9482829",
   "metadata": {},
   "source": [
    "### PID\n",
    "\n",
    "- Real aircraft and pilots can only pull so much G-force before causing structural damage to the aircraft or causing pilots to fall unconscious.\n",
    "- A G-limiter significantly increases the realism of an aircraft's flight envelope. If you'd like to simulate an indestructible autonomous drone, feel free to set kp ki kd to zero."
   ]
  },
  {
   "cell_type": "code",
   "execution_count": null,
   "id": "9d269a5b",
   "metadata": {
    "vscode": {
     "languageId": "plaintext"
    }
   },
   "outputs": [],
   "source": []
  },
  {
   "cell_type": "markdown",
   "id": "c7bac236",
   "metadata": {},
   "source": [
    "### Terrain and Simplex Noise\n",
    "\n",
    "- Generate simplex noise, highly correlated and smooth on two main levels.\n",
    "- Central terrain disc with 8 surrounding flat planes."
   ]
  },
  {
   "cell_type": "code",
   "execution_count": null,
   "id": "45df3aa9",
   "metadata": {
    "vscode": {
     "languageId": "plaintext"
    }
   },
   "outputs": [],
   "source": []
  },
  {
   "cell_type": "markdown",
   "id": "f3a10d14",
   "metadata": {},
   "source": [
    "### Collision\n",
    "\n",
    "- Collision uses bilinear interpolation, if we're under that point of the square it is seen as a collision.\n",
    "- Fast and can be done in a vectorised way."
   ]
  },
  {
   "cell_type": "code",
   "execution_count": null,
   "id": "e2fb5fa3",
   "metadata": {
    "vscode": {
     "languageId": "plaintext"
    }
   },
   "outputs": [],
   "source": []
  },
  {
   "cell_type": "markdown",
   "id": "65ef910f",
   "metadata": {},
   "source": [
    "### Quaternions\n",
    "\n",
    "- A way to represent 3D rotations that avoids singularities.\n",
    "- A quaternion represents a rotation that maps the current orientation back to a simple vector like [1, 0, 0].\n",
    "- Conceptually more complex, but much simpler to use than Euler angles."
   ]
  },
  {
   "cell_type": "code",
   "execution_count": null,
   "id": "2690830c",
   "metadata": {
    "vscode": {
     "languageId": "plaintext"
    }
   },
   "outputs": [],
   "source": []
  },
  {
   "cell_type": "markdown",
   "id": "65a1a107",
   "metadata": {},
   "source": [
    "### Flight Dynamics\n",
    "\n",
    "- Simple piecewise lift and sideslip.\n",
    "- 3D cuboid projected drag."
   ]
  },
  {
   "cell_type": "code",
   "execution_count": null,
   "id": "ca6a1127",
   "metadata": {
    "vscode": {
     "languageId": "plaintext"
    }
   },
   "outputs": [],
   "source": []
  },
  {
   "cell_type": "markdown",
   "id": "c2faba7d",
   "metadata": {},
   "source": [
    "### Numerical Integrations and RK4\n",
    "\n",
    "- Euler method is simple but can suffer from instability. First order method.\n",
    "- RK4 is much more stable, but roughly 4x more expensive to compute."
   ]
  },
  {
   "cell_type": "code",
   "execution_count": null,
   "id": "cc4d537f",
   "metadata": {
    "vscode": {
     "languageId": "plaintext"
    }
   },
   "outputs": [],
   "source": []
  },
  {
   "cell_type": "markdown",
   "id": "bf086071",
   "metadata": {},
   "source": [
    "### Wind and the Ornstein Uhlenbeck Process\n",
    "\n",
    "- Wind is modelled as a mean wind direction with stochastic gusts drawn from an Ornstein Uhlenbeck process."
   ]
  },
  {
   "cell_type": "code",
   "execution_count": null,
   "id": "21f86dde",
   "metadata": {
    "vscode": {
     "languageId": "plaintext"
    }
   },
   "outputs": [],
   "source": []
  }
 ],
 "metadata": {
  "language_info": {
   "name": "python"
  }
 },
 "nbformat": 4,
 "nbformat_minor": 5
}
